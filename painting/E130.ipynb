{
 "cells": [
  {
   "cell_type": "markdown",
   "metadata": {},
   "source": [
    "## Converting CSV into Wikidata Entity Schema E130\n",
    "\n",
    "This notebook: https://github.com/dcmi/dcap/blob/master/painting/E130.ipynb\n",
    "\n",
    "CSV: https://github.com/dcmi/dcap/blob/master/painting/E130.csv (to be converted into equivalent of E130)\n",
    "\n",
    "Entity Schema E130: https://www.wikidata.org/wiki/EntitySchema:E130\n",
    "* cached [in ShExC](https://github.com/dcmi/dcap/blob/master/painting/E130.shexc)\n",
    "* cached [in ShExJ](https://github.com/dcmi/dcap/blob/master/painting/E130.shexj)"
   ]
  },
  {
   "cell_type": "code",
   "execution_count": 1,
   "metadata": {},
   "outputs": [
    {
     "data": {
      "text/plain": [
       "['Entity_name',\n",
       " 'Entity_label',\n",
       " 'Property',\n",
       " 'Property_label',\n",
       " 'Cardinality',\n",
       " 'Value',\n",
       " 'Value_type',\n",
       " 'Annotation']"
      ]
     },
     "execution_count": 1,
     "metadata": {},
     "output_type": "execute_result"
    }
   ],
   "source": [
    "import csv\n",
    "reader = csv.DictReader(open('E130.csv', newline='', encoding='utf-8-sig'))\n",
    "reader.fieldnames"
   ]
  },
  {
   "cell_type": "code",
   "execution_count": 2,
   "metadata": {},
   "outputs": [],
   "source": [
    "all_rows = [dict(row) for row in reader]"
   ]
  },
  {
   "cell_type": "code",
   "execution_count": 3,
   "metadata": {},
   "outputs": [],
   "source": [
    "prefixes = \"\"\"PREFIX wd: <http://www.wikidata.org/entity/>\n",
    "PREFIX wdt: <http://www.wikidata.org/prop/direct/>\n",
    "PREFIX xsd: <http://www.w3.org/2001/XMLSchema#>\"\"\""
   ]
  },
  {
   "cell_type": "code",
   "execution_count": 4,
   "metadata": {},
   "outputs": [],
   "source": [
    "end_matter = \"\"\"# Proposed test for SPARQL - Top 25 paintings\n",
    "# SELECT ?id WHERE { VALUES ?id { wd:Q12418 wd:Q45585 wd:Q175036 wd:Q29530 wd:Q185372 wd:Q219831 wd:Q151047 wd:Q208758 wd:Q25729 wd:Q154469 wd:Q474338 wd:Q328523 wd:Q321303 wd:Q1892\n",
    "745 wd:Q334138 wd:Q1091086 wd:Q698487 wd:Q212616 wd:Q152509 wd:Q152867 wd:Q220859 wd:Q734834  } }\"\"\""
   ]
  },
  {
   "cell_type": "code",
   "execution_count": 5,
   "metadata": {},
   "outputs": [
    {
     "name": "stdout",
     "output_type": "stream",
     "text": [
      "start = @<painting>\n",
      "    # 'Is a'\n",
      "    wdt:P31 [wd:Q3305213] ;\n",
      "    # 'Date of inception'\n",
      "    wdt:P571 xsd:dateTime ? ;\n",
      "    # 'Location'\n",
      "    # 'Title'\n",
      "    # 'Collection'\n",
      "    # 'Creator'\n",
      "    wdt:P170 [creator] + ;\n",
      "    # 'Is a'\n",
      "    wdt:P31 [wd:] ;\n"
     ]
    }
   ],
   "source": [
    "schema = []\n",
    "start = ''\n",
    "for row in all_rows:\n",
    "    entity_name = row['Entity_name']\n",
    "    property = row['Property']\n",
    "    property_label = row['Property_label']\n",
    "    cardinality = row['Cardinality']\n",
    "    value = row['Value']           # Node Constraint\n",
    "    value_type = row['Value_type'] # Node Constraint\n",
    "    annotation = row['Annotation']\n",
    "    vtype = ''\n",
    "    vvalue = ''\n",
    "    card = ''\n",
    "    if not start:\n",
    "        if entity_name:\n",
    "            start_node = entity_name\n",
    "            start = f\"\"\"start = @<{start_node}>\"\"\"\n",
    "            schema.append(f\"{start}\\n\")\n",
    "    if property_label:\n",
    "        schema.append(f\"    # {repr(property_label)}\\n\")\n",
    "    if cardinality == \"1..1\":\n",
    "        card = ''\n",
    "    elif cardinality == \"0..1\":\n",
    "        card = ' ?'\n",
    "    elif cardinality == \"1..-1\":\n",
    "        card = ' +'\n",
    "    if value_type == \"DateTime\":\n",
    "        vtype = \" xsd:dateTime\"\n",
    "        schema.append(f\"    {property}{vtype}{card} ;\\n\")\n",
    "    if value:\n",
    "        vvalue = f\" [{value}]\"\n",
    "        schema.append(f\"    {property}{vvalue}{card} ;\\n\")\n",
    "\n",
    "for line in schema:\n",
    "    print(line, end=\"\")"
   ]
  },
  {
   "cell_type": "code",
   "execution_count": null,
   "metadata": {},
   "outputs": [],
   "source": []
  }
 ],
 "metadata": {
  "kernelspec": {
   "display_name": "gacsenv",
   "language": "python",
   "name": "gacsenv"
  },
  "language_info": {
   "codemirror_mode": {
    "name": "ipython",
    "version": 3
   },
   "file_extension": ".py",
   "mimetype": "text/x-python",
   "name": "python",
   "nbconvert_exporter": "python",
   "pygments_lexer": "ipython3",
   "version": "3.7.4"
  }
 },
 "nbformat": 4,
 "nbformat_minor": 2
}
