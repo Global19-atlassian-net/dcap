{
 "cells": [
  {
   "cell_type": "markdown",
   "metadata": {},
   "source": [
    "## Converting CSV into Wikidata Entity Schema E130\n",
    "\n",
    "This notebook: https://github.com/dcmi/dcap/blob/master/painting/E130.ipynb\n",
    "\n",
    "CSV: https://github.com/dcmi/dcap/blob/master/painting/E130.csv (to be converted into equivalent of E130)\n",
    "\n",
    "Entity Schema E130: https://www.wikidata.org/wiki/EntitySchema:E130\n",
    "* cached [in ShExC](https://github.com/dcmi/dcap/blob/master/painting/E130.shexc)\n",
    "* cached [in ShExJ](https://github.com/dcmi/dcap/blob/master/painting/E130.shexj)"
   ]
  },
  {
   "cell_type": "code",
   "execution_count": 1,
   "metadata": {},
   "outputs": [
    {
     "data": {
      "text/plain": [
       "['Entity_name',\n",
       " 'Entity_label',\n",
       " 'Property',\n",
       " 'Property_label',\n",
       " 'Cardinality',\n",
       " 'Value',\n",
       " 'Value_type',\n",
       " 'Annotation']"
      ]
     },
     "execution_count": 1,
     "metadata": {},
     "output_type": "execute_result"
    }
   ],
   "source": [
    "import csv\n",
    "reader = csv.DictReader(open('E130.csv', newline='', encoding='utf-8-sig'))\n",
    "reader.fieldnames"
   ]
  },
  {
   "cell_type": "code",
   "execution_count": 2,
   "metadata": {},
   "outputs": [
    {
     "data": {
      "text/plain": [
       "[{'Entity_name': 'painting',\n",
       "  'Entity_label': 'Painting',\n",
       "  'Property': 'wdt:P31',\n",
       "  'Property_label': 'Is a',\n",
       "  'Cardinality': '1..1',\n",
       "  'Value': 'wd:Q3305213',\n",
       "  'Value_type': 'URI',\n",
       "  'Annotation': 'instance of \"painting\"'},\n",
       " {'Entity_name': '',\n",
       "  'Entity_label': '',\n",
       "  'Property': 'wdt:P571',\n",
       "  'Property_label': 'Date of inception',\n",
       "  'Cardinality': '0..1',\n",
       "  'Value': '',\n",
       "  'Value_type': 'DateTime',\n",
       "  'Annotation': ''},\n",
       " {'Entity_name': '',\n",
       "  'Entity_label': '',\n",
       "  'Property': 'wdt:P276',\n",
       "  'Property_label': 'Location',\n",
       "  'Cardinality': '1..-1',\n",
       "  'Value': '',\n",
       "  'Value_type': '',\n",
       "  'Annotation': ''},\n",
       " {'Entity_name': '',\n",
       "  'Entity_label': '',\n",
       "  'Property': 'wdt:P1476',\n",
       "  'Property_label': 'Title',\n",
       "  'Cardinality': '1..-1',\n",
       "  'Value': '',\n",
       "  'Value_type': '',\n",
       "  'Annotation': ''},\n",
       " {'Entity_name': '',\n",
       "  'Entity_label': '',\n",
       "  'Property': 'wdt:P195',\n",
       "  'Property_label': 'Collection',\n",
       "  'Cardinality': '1..-1',\n",
       "  'Value': '',\n",
       "  'Value_type': '',\n",
       "  'Annotation': ''},\n",
       " {'Entity_name': '',\n",
       "  'Entity_label': '',\n",
       "  'Property': 'wdt:P170',\n",
       "  'Property_label': 'Creator',\n",
       "  'Cardinality': '1..-1',\n",
       "  'Value': 'creator',\n",
       "  'Value_type': 'Entity_name',\n",
       "  'Annotation': ''},\n",
       " {'Entity_name': 'creator',\n",
       "  'Entity_label': 'Artist',\n",
       "  'Property': 'wdt:P31',\n",
       "  'Property_label': 'Is a',\n",
       "  'Cardinality': '1..1',\n",
       "  'Value': 'wd:',\n",
       "  'Value_type': 'URIStem',\n",
       "  'Annotation': 'instance of \"creator\"'}]"
      ]
     },
     "execution_count": 2,
     "metadata": {},
     "output_type": "execute_result"
    }
   ],
   "source": [
    "all_rows = [dict(row) for row in reader]\n",
    "all_rows"
   ]
  },
  {
   "cell_type": "code",
   "execution_count": 3,
   "metadata": {},
   "outputs": [],
   "source": [
    "prefixes = \"\"\"PREFIX wd: <http://www.wikidata.org/entity/>\n",
    "PREFIX wdt: <http://www.wikidata.org/prop/direct/>\n",
    "PREFIX xsd: <http://www.w3.org/2001/XMLSchema#>\"\"\""
   ]
  },
  {
   "cell_type": "code",
   "execution_count": 4,
   "metadata": {},
   "outputs": [],
   "source": [
    "end_matter = \"\"\"}\n",
    "\n",
    "# Proposed test for SPARQL - Top 25 paintings\n",
    "# SELECT ?id WHERE { VALUES ?id { wd:Q12418 wd:Q45585 wd:Q175036 wd:Q29530 wd:Q185372 wd:Q219831 wd:Q151047 wd:Q208758 wd:Q25729 wd:Q154469 wd:Q474338 wd:Q328523 wd:Q321303 wd:Q1892 745 wd:Q334138 wd:Q1091086 wd:Q698487 wd:Q212616 wd:Q152509 wd:Q152867 wd:Q220859 wd:Q734834  } }\"\"\""
   ]
  },
  {
   "cell_type": "code",
   "execution_count": 5,
   "metadata": {},
   "outputs": [
    {
     "name": "stdout",
     "output_type": "stream",
     "text": [
      "PREFIX wd: <http://www.wikidata.org/entity/>\n",
      "PREFIX wdt: <http://www.wikidata.org/prop/direct/>\n",
      "PREFIX xsd: <http://www.w3.org/2001/XMLSchema#> \n",
      "\n",
      "start = @<painting>\n",
      "\n",
      "<painting> {\n",
      "    # 'Is a' instance of \"painting\"\n",
      "    wdt:P31 [wd:Q3305213]  ;\n",
      "    # 'Date of inception' \n",
      "    wdt:P571 xsd:dateTime? ;\n",
      "    # 'Location' \n",
      "    wdt:P276 . + ;\n",
      "    # 'Title' \n",
      "    wdt:P1476 . + ;\n",
      "    # 'Collection' \n",
      "    wdt:P195 . + ;\n",
      "    # 'Creator' \n",
      "    wdt:P170 @<creator>+ ;\n",
      "}\n",
      "\n",
      "<creator> {\n",
      "    # 'Is a' instance of \"creator\"\n",
      "    wdt:P31 [wd:~]  ;\n",
      "\n",
      " }\n",
      "\n",
      "# Proposed test for SPARQL - Top 25 paintings\n",
      "# SELECT ?id WHERE { VALUES ?id { wd:Q12418 wd:Q45585 wd:Q175036 wd:Q29530 wd:Q185372 wd:Q219831 wd:Q151047 wd:Q208758 wd:Q25729 wd:Q154469 wd:Q474338 wd:Q328523 wd:Q321303 wd:Q1892 745 wd:Q334138 wd:Q1091086 wd:Q698487 wd:Q212616 wd:Q152509 wd:Q152867 wd:Q220859 wd:Q734834  } }\n"
     ]
    }
   ],
   "source": [
    "schema = []\n",
    "start = ''\n",
    "started = False\n",
    "for row in all_rows:\n",
    "    entity_name = row['Entity_name']\n",
    "    property = row['Property']\n",
    "    property_label = row['Property_label']\n",
    "    cardinality = row['Cardinality']\n",
    "    value = row['Value']           # Node Constraint\n",
    "    value_type = row['Value_type'] # Node Constraint\n",
    "    annotation = row['Annotation']\n",
    "    vtype = ''\n",
    "    card = ''\n",
    "    if not start:\n",
    "        if entity_name:\n",
    "            start_node = entity_name\n",
    "            start = f\"\"\"start = @<{start_node}>\"\"\"\n",
    "            schema.append(f\"{start}\\n\\n\")\n",
    "    if entity_name:\n",
    "        if started:\n",
    "            schema.append(\"}\\n\\n\")\n",
    "        shape_name = f\"<{entity_name}>\" + \" {\\n\"\n",
    "        schema.append(shape_name)\n",
    "        started = True\n",
    "    if property_label:\n",
    "        schema.append(f\"    # {repr(property_label)} {annotation}\\n\")\n",
    "    if cardinality == \"1..1\":\n",
    "        card = ''\n",
    "    elif cardinality == \"0..1\":\n",
    "        card = '?'\n",
    "    elif cardinality == \"1..-1\":\n",
    "        card = '+'\n",
    "    if value_type == \"DateTime\":\n",
    "        vtype = \" xsd:dateTime\"\n",
    "        schema.append(f\"    {property}{vtype}{card} ;\\n\")\n",
    "    elif value_type == \"URIStem\":\n",
    "        value = value + \"~\"\n",
    "        schema.append(f\"    {property} [{value}] {card} ;\\n\")\n",
    "    elif value_type == \"Entity_name\":\n",
    "        value = f\"@<{value}>\"\n",
    "        schema.append(f\"    {property} {value}{card} ;\\n\")\n",
    "    elif not value:\n",
    "        schema.append(f\"    {property} . {card} ;\\n\")\n",
    "    elif value:\n",
    "        schema.append(f\"    {property} [{value}] {card} ;\\n\")\n",
    "\n",
    "print(prefixes, \"\\n\")\n",
    "for line in schema:\n",
    "    print(line, end=\"\")\n",
    "print(\"\\n\", end_matter)"
   ]
  },
  {
   "cell_type": "code",
   "execution_count": null,
   "metadata": {},
   "outputs": [],
   "source": []
  },
  {
   "cell_type": "code",
   "execution_count": null,
   "metadata": {},
   "outputs": [],
   "source": []
  }
 ],
 "metadata": {
  "kernelspec": {
   "display_name": "gacsenv",
   "language": "python",
   "name": "gacsenv"
  },
  "language_info": {
   "codemirror_mode": {
    "name": "ipython",
    "version": 3
   },
   "file_extension": ".py",
   "mimetype": "text/x-python",
   "name": "python",
   "nbconvert_exporter": "python",
   "pygments_lexer": "ipython3",
   "version": "3.7.4"
  }
 },
 "nbformat": 4,
 "nbformat_minor": 2
}
